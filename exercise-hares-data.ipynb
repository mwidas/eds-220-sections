{
 "cells": [
  {
   "cell_type": "markdown",
   "id": "85ebcda2-423f-46e0-8eb0-d1f0d855cc79",
   "metadata": {},
   "source": [
    "## Archive Exploration\n",
    "\n",
    "a. What is the data about?\n",
    "capture-recapture of snowshoe hares, a keystone species, in Tanana Valley\n",
    "\n",
    "b. time frame?\n",
    "1999-2002\n",
    "\n",
    "c. sensitive data? no\n",
    "\n",
    "d. publication associated?\n",
    "yes \n",
    "\n",
    "citation: \n",
    "Kielland, K., F.S. Chapin, R.W. Ruess, and Bonanza Creek LTER. 2017. Snowshoe hare physical data in Bonanza Creek Experimental Forest: 1999-Present ver 22. Environmental Data Initiative. https://doi.org/10.6073/pasta/03dce4856d79b91557d8e6ce2cbcdc14 (Accessed 2023-10-19)."
   ]
  },
  {
   "cell_type": "markdown",
   "id": "3f99ca8d-8652-437d-8a97-e9f945c0b570",
   "metadata": {},
   "source": [
    "## Adding an Image\n",
    "\n",
    "![image description](data:image/jpeg;base64,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)"
   ]
  },
  {
   "cell_type": "markdown",
   "id": "6a570c50-0899-4084-b7a2-21e7c1cf8b62",
   "metadata": {},
   "source": [
    "## Data Loading\n"
   ]
  },
  {
   "cell_type": "code",
   "execution_count": 21,
   "id": "9797ff38-db6d-4bb1-aecc-ce85979c5920",
   "metadata": {
    "tags": []
   },
   "outputs": [
    {
     "data": {
      "text/html": [
       "<div>\n",
       "<style scoped>\n",
       "    .dataframe tbody tr th:only-of-type {\n",
       "        vertical-align: middle;\n",
       "    }\n",
       "\n",
       "    .dataframe tbody tr th {\n",
       "        vertical-align: top;\n",
       "    }\n",
       "\n",
       "    .dataframe thead th {\n",
       "        text-align: right;\n",
       "    }\n",
       "</style>\n",
       "<table border=\"1\" class=\"dataframe\">\n",
       "  <thead>\n",
       "    <tr style=\"text-align: right;\">\n",
       "      <th></th>\n",
       "      <th>date</th>\n",
       "      <th>time</th>\n",
       "      <th>grid</th>\n",
       "      <th>trap</th>\n",
       "      <th>l_ear</th>\n",
       "      <th>r_ear</th>\n",
       "      <th>sex</th>\n",
       "      <th>age</th>\n",
       "      <th>weight</th>\n",
       "      <th>hindft</th>\n",
       "      <th>notes</th>\n",
       "      <th>b_key</th>\n",
       "      <th>session_id</th>\n",
       "      <th>study</th>\n",
       "    </tr>\n",
       "  </thead>\n",
       "  <tbody>\n",
       "    <tr>\n",
       "      <th>0</th>\n",
       "      <td>11/26/1998</td>\n",
       "      <td>NaN</td>\n",
       "      <td>bonrip</td>\n",
       "      <td>1A</td>\n",
       "      <td>414D096A08</td>\n",
       "      <td>NaN</td>\n",
       "      <td>NaN</td>\n",
       "      <td>NaN</td>\n",
       "      <td>1370.0</td>\n",
       "      <td>160.0</td>\n",
       "      <td>NaN</td>\n",
       "      <td>917.0</td>\n",
       "      <td>51</td>\n",
       "      <td>Population</td>\n",
       "    </tr>\n",
       "    <tr>\n",
       "      <th>1</th>\n",
       "      <td>11/26/1998</td>\n",
       "      <td>NaN</td>\n",
       "      <td>bonrip</td>\n",
       "      <td>2C</td>\n",
       "      <td>414D320671</td>\n",
       "      <td>NaN</td>\n",
       "      <td>M</td>\n",
       "      <td>NaN</td>\n",
       "      <td>1430.0</td>\n",
       "      <td>NaN</td>\n",
       "      <td>NaN</td>\n",
       "      <td>936.0</td>\n",
       "      <td>51</td>\n",
       "      <td>Population</td>\n",
       "    </tr>\n",
       "    <tr>\n",
       "      <th>2</th>\n",
       "      <td>11/26/1998</td>\n",
       "      <td>NaN</td>\n",
       "      <td>bonrip</td>\n",
       "      <td>2D</td>\n",
       "      <td>414D103E3A</td>\n",
       "      <td>NaN</td>\n",
       "      <td>M</td>\n",
       "      <td>NaN</td>\n",
       "      <td>1430.0</td>\n",
       "      <td>NaN</td>\n",
       "      <td>NaN</td>\n",
       "      <td>921.0</td>\n",
       "      <td>51</td>\n",
       "      <td>Population</td>\n",
       "    </tr>\n",
       "    <tr>\n",
       "      <th>3</th>\n",
       "      <td>11/26/1998</td>\n",
       "      <td>NaN</td>\n",
       "      <td>bonrip</td>\n",
       "      <td>2E</td>\n",
       "      <td>414D262D43</td>\n",
       "      <td>NaN</td>\n",
       "      <td>NaN</td>\n",
       "      <td>NaN</td>\n",
       "      <td>1490.0</td>\n",
       "      <td>135.0</td>\n",
       "      <td>NaN</td>\n",
       "      <td>931.0</td>\n",
       "      <td>51</td>\n",
       "      <td>Population</td>\n",
       "    </tr>\n",
       "    <tr>\n",
       "      <th>4</th>\n",
       "      <td>11/26/1998</td>\n",
       "      <td>NaN</td>\n",
       "      <td>bonrip</td>\n",
       "      <td>3B</td>\n",
       "      <td>414D2B4B58</td>\n",
       "      <td>NaN</td>\n",
       "      <td>NaN</td>\n",
       "      <td>NaN</td>\n",
       "      <td>1710.0</td>\n",
       "      <td>150.0</td>\n",
       "      <td>NaN</td>\n",
       "      <td>933.0</td>\n",
       "      <td>51</td>\n",
       "      <td>Population</td>\n",
       "    </tr>\n",
       "  </tbody>\n",
       "</table>\n",
       "</div>"
      ],
      "text/plain": [
       "         date time    grid trap       l_ear r_ear  sex  age  weight  hindft  \\\n",
       "0  11/26/1998  NaN  bonrip   1A  414D096A08   NaN  NaN  NaN  1370.0   160.0   \n",
       "1  11/26/1998  NaN  bonrip   2C  414D320671   NaN    M  NaN  1430.0     NaN   \n",
       "2  11/26/1998  NaN  bonrip   2D  414D103E3A   NaN    M  NaN  1430.0     NaN   \n",
       "3  11/26/1998  NaN  bonrip   2E  414D262D43   NaN  NaN  NaN  1490.0   135.0   \n",
       "4  11/26/1998  NaN  bonrip   3B  414D2B4B58   NaN  NaN  NaN  1710.0   150.0   \n",
       "\n",
       "  notes  b_key  session_id       study  \n",
       "0   NaN  917.0          51  Population  \n",
       "1   NaN  936.0          51  Population  \n",
       "2   NaN  921.0          51  Population  \n",
       "3   NaN  931.0          51  Population  \n",
       "4   NaN  933.0          51  Population  "
      ]
     },
     "execution_count": 21,
     "metadata": {},
     "output_type": "execute_result"
    }
   ],
   "source": [
    "import pandas as pd\n",
    "import numpy as np\n",
    "\n",
    "hares = pd.read_csv('https://portal.edirepository.org/nis/dataviewer?packageid=knb-lter-bnz.55.22&entityid=f01f5d71be949b8c700b6ecd1c42c701')\n",
    "\n",
    "hares.head()"
   ]
  },
  {
   "cell_type": "markdown",
   "id": "b404eb30-ca5d-47d3-ae06-817cc6ba08c0",
   "metadata": {},
   "source": [
    "## Metadate Exploration\n",
    "\n",
    "Explore descriptions of the dataset's columns"
   ]
  },
  {
   "cell_type": "markdown",
   "id": "418928fb-3dbe-481f-ad17-09902a03ff76",
   "metadata": {},
   "source": [
    "## Detecting Messy Values\n",
    "\n",
    "1. Get the number of teams each unique non-NA value in the sex column appears by running hares.sex.value_counts()."
   ]
  },
  {
   "cell_type": "code",
   "execution_count": null,
   "id": "4a6ce474-b3dc-4ba6-a9d8-ff3431b7b8e9",
   "metadata": {},
   "outputs": [],
   "source": []
  },
  {
   "cell_type": "code",
   "execution_count": 5,
   "id": "df5fc702-87fb-4efc-a2b5-6615ccd00510",
   "metadata": {
    "tags": []
   },
   "outputs": [
    {
     "data": {
      "text/plain": [
       "F     1161\n",
       "M      730\n",
       "f      556\n",
       "m      515\n",
       "?       40\n",
       "F?      10\n",
       "f        4\n",
       "m        4\n",
       "f?       3\n",
       "M?       2\n",
       "m?       2\n",
       "pf       1\n",
       "Name: sex, dtype: int64"
      ]
     },
     "execution_count": 5,
     "metadata": {},
     "output_type": "execute_result"
    }
   ],
   "source": [
    "hares.sex.value_counts()"
   ]
  },
  {
   "cell_type": "code",
   "execution_count": 9,
   "id": "c07fb93b-d0b8-447e-ae84-b11cef11e53d",
   "metadata": {
    "tags": []
   },
   "outputs": [
    {
     "data": {
      "text/plain": [
       "F      1161\n",
       "M       730\n",
       "f       556\n",
       "m       515\n",
       "NaN     352\n",
       "?        40\n",
       "F?       10\n",
       "f         4\n",
       "m         4\n",
       "f?        3\n",
       "M?        2\n",
       "m?        2\n",
       "pf        1\n",
       "Name: sex, dtype: int64"
      ]
     },
     "execution_count": 9,
     "metadata": {},
     "output_type": "execute_result"
    }
   ],
   "source": [
    "hares.sex.value_counts(dropna=False)"
   ]
  },
  {
   "cell_type": "code",
   "execution_count": 10,
   "id": "8fd77a7d-0901-4af3-9e21-2a125a839552",
   "metadata": {
    "tags": []
   },
   "outputs": [
    {
     "data": {
      "text/plain": [
       "array([nan, 'M', 'F', '?', 'F?', 'M?', 'pf', 'm', 'f', 'f?', 'm?', 'f ',\n",
       "       'm '], dtype=object)"
      ]
     },
     "execution_count": 10,
     "metadata": {},
     "output_type": "execute_result"
    }
   ],
   "source": [
    "hares.sex.unique()"
   ]
  },
  {
   "cell_type": "markdown",
   "id": "265d1d1a-4a75-438b-8519-85599f06367a",
   "metadata": {},
   "source": [
    "5. In the metadata the accepted values are m, f, or m?"
   ]
  },
  {
   "cell_type": "markdown",
   "id": "590948b4-119e-4a47-b50e-ed9683405091",
   "metadata": {},
   "source": [
    "## Clean Values\n",
    "\n"
   ]
  },
  {
   "cell_type": "code",
   "execution_count": 34,
   "id": "bbf342e7-7906-424c-ae19-91f1faabbbe3",
   "metadata": {
    "tags": []
   },
   "outputs": [
    {
     "data": {
      "text/html": [
       "<div>\n",
       "<style scoped>\n",
       "    .dataframe tbody tr th:only-of-type {\n",
       "        vertical-align: middle;\n",
       "    }\n",
       "\n",
       "    .dataframe tbody tr th {\n",
       "        vertical-align: top;\n",
       "    }\n",
       "\n",
       "    .dataframe thead th {\n",
       "        text-align: right;\n",
       "    }\n",
       "</style>\n",
       "<table border=\"1\" class=\"dataframe\">\n",
       "  <thead>\n",
       "    <tr style=\"text-align: right;\">\n",
       "      <th></th>\n",
       "      <th>date</th>\n",
       "      <th>time</th>\n",
       "      <th>grid</th>\n",
       "      <th>trap</th>\n",
       "      <th>l_ear</th>\n",
       "      <th>r_ear</th>\n",
       "      <th>sex</th>\n",
       "      <th>age</th>\n",
       "      <th>weight</th>\n",
       "      <th>hindft</th>\n",
       "      <th>notes</th>\n",
       "      <th>b_key</th>\n",
       "      <th>session_id</th>\n",
       "      <th>study</th>\n",
       "      <th>sex_simple</th>\n",
       "    </tr>\n",
       "  </thead>\n",
       "  <tbody>\n",
       "    <tr>\n",
       "      <th>0</th>\n",
       "      <td>11/26/1998</td>\n",
       "      <td>NaN</td>\n",
       "      <td>bonrip</td>\n",
       "      <td>1A</td>\n",
       "      <td>414D096A08</td>\n",
       "      <td>NaN</td>\n",
       "      <td>NaN</td>\n",
       "      <td>NaN</td>\n",
       "      <td>1370.0</td>\n",
       "      <td>160.0</td>\n",
       "      <td>NaN</td>\n",
       "      <td>917.0</td>\n",
       "      <td>51</td>\n",
       "      <td>Population</td>\n",
       "      <td>nan</td>\n",
       "    </tr>\n",
       "    <tr>\n",
       "      <th>1</th>\n",
       "      <td>11/26/1998</td>\n",
       "      <td>NaN</td>\n",
       "      <td>bonrip</td>\n",
       "      <td>2C</td>\n",
       "      <td>414D320671</td>\n",
       "      <td>NaN</td>\n",
       "      <td>M</td>\n",
       "      <td>NaN</td>\n",
       "      <td>1430.0</td>\n",
       "      <td>NaN</td>\n",
       "      <td>NaN</td>\n",
       "      <td>936.0</td>\n",
       "      <td>51</td>\n",
       "      <td>Population</td>\n",
       "      <td>male</td>\n",
       "    </tr>\n",
       "    <tr>\n",
       "      <th>2</th>\n",
       "      <td>11/26/1998</td>\n",
       "      <td>NaN</td>\n",
       "      <td>bonrip</td>\n",
       "      <td>2D</td>\n",
       "      <td>414D103E3A</td>\n",
       "      <td>NaN</td>\n",
       "      <td>M</td>\n",
       "      <td>NaN</td>\n",
       "      <td>1430.0</td>\n",
       "      <td>NaN</td>\n",
       "      <td>NaN</td>\n",
       "      <td>921.0</td>\n",
       "      <td>51</td>\n",
       "      <td>Population</td>\n",
       "      <td>male</td>\n",
       "    </tr>\n",
       "    <tr>\n",
       "      <th>3</th>\n",
       "      <td>11/26/1998</td>\n",
       "      <td>NaN</td>\n",
       "      <td>bonrip</td>\n",
       "      <td>2E</td>\n",
       "      <td>414D262D43</td>\n",
       "      <td>NaN</td>\n",
       "      <td>NaN</td>\n",
       "      <td>NaN</td>\n",
       "      <td>1490.0</td>\n",
       "      <td>135.0</td>\n",
       "      <td>NaN</td>\n",
       "      <td>931.0</td>\n",
       "      <td>51</td>\n",
       "      <td>Population</td>\n",
       "      <td>nan</td>\n",
       "    </tr>\n",
       "    <tr>\n",
       "      <th>4</th>\n",
       "      <td>11/26/1998</td>\n",
       "      <td>NaN</td>\n",
       "      <td>bonrip</td>\n",
       "      <td>3B</td>\n",
       "      <td>414D2B4B58</td>\n",
       "      <td>NaN</td>\n",
       "      <td>NaN</td>\n",
       "      <td>NaN</td>\n",
       "      <td>1710.0</td>\n",
       "      <td>150.0</td>\n",
       "      <td>NaN</td>\n",
       "      <td>933.0</td>\n",
       "      <td>51</td>\n",
       "      <td>Population</td>\n",
       "      <td>nan</td>\n",
       "    </tr>\n",
       "  </tbody>\n",
       "</table>\n",
       "</div>"
      ],
      "text/plain": [
       "         date time    grid trap       l_ear r_ear  sex  age  weight  hindft  \\\n",
       "0  11/26/1998  NaN  bonrip   1A  414D096A08   NaN  NaN  NaN  1370.0   160.0   \n",
       "1  11/26/1998  NaN  bonrip   2C  414D320671   NaN    M  NaN  1430.0     NaN   \n",
       "2  11/26/1998  NaN  bonrip   2D  414D103E3A   NaN    M  NaN  1430.0     NaN   \n",
       "3  11/26/1998  NaN  bonrip   2E  414D262D43   NaN  NaN  NaN  1490.0   135.0   \n",
       "4  11/26/1998  NaN  bonrip   3B  414D2B4B58   NaN  NaN  NaN  1710.0   150.0   \n",
       "\n",
       "  notes  b_key  session_id       study sex_simple  \n",
       "0   NaN  917.0          51  Population        nan  \n",
       "1   NaN  936.0          51  Population       male  \n",
       "2   NaN  921.0          51  Population       male  \n",
       "3   NaN  931.0          51  Population        nan  \n",
       "4   NaN  933.0          51  Population        nan  "
      ]
     },
     "execution_count": 34,
     "metadata": {},
     "output_type": "execute_result"
    }
   ],
   "source": [
    "# create a list with the condition\n",
    "conditions = [\n",
    "    (hares.sex == 'F') | (hares.sex == 'f') | (hares.sex == 'f ') | (hares.sex == 'f?'),\n",
    "              (hares.sex == 'M') | (hares.sex == 'M?')\n",
    "]\n",
    "             \n",
    "\n",
    "# create a list with the choices\n",
    "choices = ['female',\n",
    "           'male']\n",
    "\n",
    "len(conditions)\n",
    "len(choices)\n",
    "\n",
    "# default = value for anything that falls outside of conditions\n",
    "hares['sex_simple'] = np.select(conditions, choices, default=np.nan)\n",
    "\n",
    "hares.head()"
   ]
  },
  {
   "cell_type": "code",
   "execution_count": 35,
   "id": "e4d317b1-1b27-4bd7-9377-8d1e1f448849",
   "metadata": {
    "tags": []
   },
   "outputs": [
    {
     "data": {
      "text/plain": [
       "array(['nan', 'male', 'female'], dtype=object)"
      ]
     },
     "execution_count": 35,
     "metadata": {},
     "output_type": "execute_result"
    }
   ],
   "source": [
    "hares.sex_simple.unique()"
   ]
  },
  {
   "cell_type": "markdown",
   "id": "5f6f272d-3dfd-44c0-8c2e-7494e92f385b",
   "metadata": {},
   "source": [
    "## Calculate Mean Weight"
   ]
  },
  {
   "cell_type": "code",
   "execution_count": 36,
   "id": "7c60149f-5681-4f58-9071-89136cf15995",
   "metadata": {
    "tags": []
   },
   "outputs": [
    {
     "data": {
      "text/plain": [
       "sex_simple\n",
       "female    1365.293263\n",
       "male      1354.047022\n",
       "nan       1296.776335\n",
       "Name: weight, dtype: float64"
      ]
     },
     "execution_count": 36,
     "metadata": {},
     "output_type": "execute_result"
    }
   ],
   "source": [
    "hares.groupby('sex_simple').mean().weight"
   ]
  },
  {
   "cell_type": "code",
   "execution_count": null,
   "id": "9d7fab4b-c5c2-4485-b68c-78ebb17871ed",
   "metadata": {},
   "outputs": [],
   "source": []
  }
 ],
 "metadata": {
  "kernelspec": {
   "display_name": "Anaconda 3 (Base)",
   "language": "python",
   "name": "base"
  },
  "language_info": {
   "codemirror_mode": {
    "name": "ipython",
    "version": 3
   },
   "file_extension": ".py",
   "mimetype": "text/x-python",
   "name": "python",
   "nbconvert_exporter": "python",
   "pygments_lexer": "ipython3",
   "version": "3.9.13"
  }
 },
 "nbformat": 4,
 "nbformat_minor": 5
}
